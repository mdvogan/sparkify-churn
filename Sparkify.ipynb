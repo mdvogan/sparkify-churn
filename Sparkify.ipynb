{
 "cells": [
  {
   "cell_type": "markdown",
   "metadata": {},
   "source": [
    "# Sparkify Project Workspace\n",
    "This workspace contains a tiny subset (128MB) of the full dataset available (12GB). Feel free to use this workspace to build your project, or to explore a smaller subset with Spark before deploying your cluster on the cloud. Instructions for setting up your Spark cluster is included in the last lesson of the Extracurricular Spark Course content.\n",
    "\n",
    "You can follow the steps below to guide your data analysis and model building portion of this project."
   ]
  },
  {
   "cell_type": "code",
   "execution_count": 1,
   "metadata": {},
   "outputs": [],
   "source": [
    "# import libraries\n",
    "from pyspark.sql import SparkSession\n",
    "from pyspark.sql.functions import isnan, count, when, col, desc, udf, col, \\\n",
    "    floor, sort_array, asc, avg, concat, lit\n",
    "from pyspark.sql.functions import sum as Fsum\n",
    "from pyspark.sql.functions import max as Fmax\n",
    "from pyspark.sql.window import Window\n",
    "from pyspark.sql.types import IntegerType, FloatType\n",
    "\n",
    "from pyspark.ml.feature import VectorAssembler\n",
    "from pyspark.ml.classification import LogisticRegression, RandomForestClassifier\n",
    "\n",
    "from pyspark.mllib.evaluation import MulticlassMetrics\n",
    "from pyspark.ml.evaluation import MulticlassClassificationEvaluator\n",
    "\n",
    "from pyspark.ml.tuning import ParamGridBuilder, CrossValidator\n",
    "import datetime\n",
    "\n",
    "import numpy as np\n",
    "import pandas as pd\n",
    "import matplotlib.pyplot as plt\n",
    "%matplotlib inline\n"
   ]
  },
  {
   "cell_type": "code",
   "execution_count": 2,
   "metadata": {},
   "outputs": [],
   "source": [
    "# Create a Spark session\n",
    "spark = SparkSession.builder \\\n",
    "    .master(\"local\") \\\n",
    "    .appName(\"Sparkify Capstone\") \\\n",
    "    .getOrCreate()"
   ]
  },
  {
   "cell_type": "markdown",
   "metadata": {},
   "source": [
    "# Load and Clean Dataset\n",
    "In this workspace, the mini-dataset file is `mini_sparkify_event_data.json`. Load and clean the dataset, checking for invalid or missing data - for example, records without userids or sessionids. "
   ]
  },
  {
   "cell_type": "code",
   "execution_count": 3,
   "metadata": {},
   "outputs": [
    {
     "name": "stdout",
     "output_type": "stream",
     "text": [
      "root\n",
      " |-- artist: string (nullable = true)\n",
      " |-- auth: string (nullable = true)\n",
      " |-- firstName: string (nullable = true)\n",
      " |-- gender: string (nullable = true)\n",
      " |-- itemInSession: long (nullable = true)\n",
      " |-- lastName: string (nullable = true)\n",
      " |-- length: double (nullable = true)\n",
      " |-- level: string (nullable = true)\n",
      " |-- location: string (nullable = true)\n",
      " |-- method: string (nullable = true)\n",
      " |-- page: string (nullable = true)\n",
      " |-- registration: long (nullable = true)\n",
      " |-- sessionId: long (nullable = true)\n",
      " |-- song: string (nullable = true)\n",
      " |-- status: long (nullable = true)\n",
      " |-- ts: long (nullable = true)\n",
      " |-- userAgent: string (nullable = true)\n",
      " |-- userId: string (nullable = true)\n",
      "\n",
      "-RECORD 0---------------------------------------------------------------------------------------------------------------------------\n",
      " summary       | count                                                                                                              \n",
      " artist        | 228108                                                                                                             \n",
      " auth          | 286500                                                                                                             \n",
      " firstName     | 278154                                                                                                             \n",
      " gender        | 278154                                                                                                             \n",
      " itemInSession | 286500                                                                                                             \n",
      " lastName      | 278154                                                                                                             \n",
      " length        | 228108                                                                                                             \n",
      " level         | 286500                                                                                                             \n",
      " location      | 278154                                                                                                             \n",
      " method        | 286500                                                                                                             \n",
      " page          | 286500                                                                                                             \n",
      " registration  | 278154                                                                                                             \n",
      " sessionId     | 286500                                                                                                             \n",
      " song          | 228108                                                                                                             \n",
      " status        | 286500                                                                                                             \n",
      " ts            | 286500                                                                                                             \n",
      " userAgent     | 278154                                                                                                             \n",
      " userId        | 286500                                                                                                             \n",
      "-RECORD 1---------------------------------------------------------------------------------------------------------------------------\n",
      " summary       | mean                                                                                                               \n",
      " artist        | 551.0852017937219                                                                                                  \n",
      " auth          | null                                                                                                               \n",
      " firstName     | null                                                                                                               \n",
      " gender        | null                                                                                                               \n",
      " itemInSession | 114.41421291448516                                                                                                 \n",
      " lastName      | null                                                                                                               \n",
      " length        | 249.1171819778458                                                                                                  \n",
      " level         | null                                                                                                               \n",
      " location      | null                                                                                                               \n",
      " method        | null                                                                                                               \n",
      " page          | null                                                                                                               \n",
      " registration  | 1.5353588340844272E12                                                                                              \n",
      " sessionId     | 1041.526554973822                                                                                                  \n",
      " song          | Infinity                                                                                                           \n",
      " status        | 210.05459685863875                                                                                                 \n",
      " ts            | 1.5409568898104834E12                                                                                              \n",
      " userAgent     | null                                                                                                               \n",
      " userId        | 59682.02278593872                                                                                                  \n",
      "-RECORD 2---------------------------------------------------------------------------------------------------------------------------\n",
      " summary       | stddev                                                                                                             \n",
      " artist        | 1217.7693079161374                                                                                                 \n",
      " auth          | null                                                                                                               \n",
      " firstName     | null                                                                                                               \n",
      " gender        | null                                                                                                               \n",
      " itemInSession | 129.76726201140994                                                                                                 \n",
      " lastName      | null                                                                                                               \n",
      " length        | 99.23517921058361                                                                                                  \n",
      " level         | null                                                                                                               \n",
      " location      | null                                                                                                               \n",
      " method        | null                                                                                                               \n",
      " page          | null                                                                                                               \n",
      " registration  | 3.291321616327586E9                                                                                                \n",
      " sessionId     | 726.7762634630741                                                                                                  \n",
      " song          | NaN                                                                                                                \n",
      " status        | 31.50507848842214                                                                                                  \n",
      " ts            | 1.5075439608226302E9                                                                                               \n",
      " userAgent     | null                                                                                                               \n",
      " userId        | 109091.9499991047                                                                                                  \n",
      "-RECORD 3---------------------------------------------------------------------------------------------------------------------------\n",
      " summary       | min                                                                                                                \n",
      " artist        | !!!                                                                                                                \n",
      " auth          | Cancelled                                                                                                          \n",
      " firstName     | Adelaida                                                                                                           \n",
      " gender        | F                                                                                                                  \n",
      " itemInSession | 0                                                                                                                  \n",
      " lastName      | Adams                                                                                                              \n",
      " length        | 0.78322                                                                                                            \n",
      " level         | free                                                                                                               \n",
      " location      | Albany, OR                                                                                                         \n",
      " method        | GET                                                                                                                \n",
      " page          | About                                                                                                              \n",
      " registration  | 1521380675000                                                                                                      \n",
      " sessionId     | 1                                                                                                                  \n",
      " song          | \u001c",
      "ÃÂg ÃÂtti GrÃÂ¡a ÃÂsku                                                                                     \n",
      " status        | 200                                                                                                                \n",
      " ts            | 1538352117000                                                                                                      \n",
      " userAgent     | \"Mozilla/5.0 (Macintosh; Intel Mac OS X 10_10) AppleWebKit/600.1.3 (KHTML, like Gecko) Version/8.0 Safari/600.1.3\" \n",
      " userId        |                                                                                                                    \n",
      "-RECORD 4---------------------------------------------------------------------------------------------------------------------------\n",
      " summary       | 25%                                                                                                                \n",
      " artist        | 311.0                                                                                                              \n",
      " auth          | null                                                                                                               \n",
      " firstName     | null                                                                                                               \n",
      " gender        | null                                                                                                               \n",
      " itemInSession | 27                                                                                                                 \n",
      " lastName      | null                                                                                                               \n",
      " length        | 199.88853                                                                                                          \n",
      " level         | null                                                                                                               \n",
      " location      | null                                                                                                               \n",
      " method        | null                                                                                                               \n",
      " page          | null                                                                                                               \n",
      " registration  | 1533522419000                                                                                                      \n",
      " sessionId     | 336                                                                                                                \n",
      " song          | 24.0                                                                                                               \n",
      " status        | 200                                                                                                                \n",
      " ts            | 1539696769000                                                                                                      \n",
      " userAgent     | null                                                                                                               \n",
      " userId        | 51.0                                                                                                               \n",
      "-RECORD 5---------------------------------------------------------------------------------------------------------------------------\n",
      " summary       | 50%                                                                                                                \n",
      " artist        | 311.0                                                                                                              \n",
      " auth          | null                                                                                                               \n",
      " firstName     | null                                                                                                               \n",
      " gender        | null                                                                                                               \n",
      " itemInSession | 70                                                                                                                 \n",
      " lastName      | null                                                                                                               \n",
      " length        | 234.50077                                                                                                          \n",
      " level         | null                                                                                                               \n",
      " location      | null                                                                                                               \n",
      " method        | null                                                                                                               \n",
      " page          | null                                                                                                               \n",
      " registration  | 1536663902000                                                                                                      \n",
      " sessionId     | 1013                                                                                                               \n",
      " song          | 221.0                                                                                                              \n",
      " status        | 200                                                                                                                \n",
      " ts            | 1540931812000                                                                                                      \n",
      " userAgent     | null                                                                                                               \n",
      " userId        | 98.0                                                                                                               \n",
      "-RECORD 6---------------------------------------------------------------------------------------------------------------------------\n",
      " summary       | 75%                                                                                                                \n",
      " artist        | 311.0                                                                                                              \n",
      " auth          | null                                                                                                               \n",
      " firstName     | null                                                                                                               \n",
      " gender        | null                                                                                                               \n",
      " itemInSession | 157                                                                                                                \n",
      " lastName      | null                                                                                                               \n",
      " length        | 277.15873                                                                                                          \n",
      " level         | null                                                                                                               \n",
      " location      | null                                                                                                               \n",
      " method        | null                                                                                                               \n",
      " page          | null                                                                                                               \n",
      " registration  | 1537672236000                                                                                                      \n",
      " sessionId     | 1675                                                                                                               \n",
      " song          | 1958.0                                                                                                             \n",
      " status        | 200                                                                                                                \n",
      " ts            | 1542265504000                                                                                                      \n",
      " userAgent     | null                                                                                                               \n",
      " userId        | 100004.0                                                                                                           \n",
      "-RECORD 7---------------------------------------------------------------------------------------------------------------------------\n",
      " summary       | max                                                                                                                \n",
      " artist        | ÃÂlafur Arnalds                                                                                                  \n",
      " auth          | Logged Out                                                                                                         \n",
      " firstName     | Zyonna                                                                                                             \n",
      " gender        | M                                                                                                                  \n",
      " itemInSession | 1321                                                                                                               \n",
      " lastName      | Wright                                                                                                             \n",
      " length        | 3024.66567                                                                                                         \n",
      " level         | paid                                                                                                               \n",
      " location      | Winston-Salem, NC                                                                                                  \n",
      " method        | PUT                                                                                                                \n",
      " page          | Upgrade                                                                                                            \n",
      " registration  | 1543247354000                                                                                                      \n",
      " sessionId     | 2474                                                                                                               \n",
      " song          | ÃÂau hafa sloppiÃÂ° undan ÃÂ¾unga myrkursins                                                                   \n",
      " status        | 404                                                                                                                \n",
      " ts            | 1543799476000                                                                                                      \n",
      " userAgent     | Mozilla/5.0 (compatible; MSIE 9.0; Windows NT 6.1; WOW64; Trident/5.0)                                             \n",
      " userId        | 99                                                                                                                 \n",
      "\n"
     ]
    }
   ],
   "source": [
    "# Load data and print information\n",
    "df = spark.read.json(\"mini_sparkify_event_data.json\")\n",
    "df.printSchema()\n",
    "df.summary().show(truncate=False, vertical=True)"
   ]
  },
  {
   "cell_type": "code",
   "execution_count": 4,
   "metadata": {},
   "outputs": [
    {
     "name": "stdout",
     "output_type": "stream",
     "text": [
      "+------+\n",
      "|userId|\n",
      "+------+\n",
      "|      |\n",
      "|    10|\n",
      "|   100|\n",
      "|100001|\n",
      "|100002|\n",
      "|100003|\n",
      "|100004|\n",
      "|100005|\n",
      "|100006|\n",
      "|100007|\n",
      "|100008|\n",
      "|100009|\n",
      "|100010|\n",
      "|100011|\n",
      "|100012|\n",
      "|100013|\n",
      "|100014|\n",
      "|100015|\n",
      "|100016|\n",
      "|100017|\n",
      "+------+\n",
      "only showing top 20 rows\n",
      "\n",
      "None\n",
      "+---------+\n",
      "|sessionId|\n",
      "+---------+\n",
      "|        1|\n",
      "|        2|\n",
      "|        3|\n",
      "|        4|\n",
      "|        5|\n",
      "|        6|\n",
      "|        7|\n",
      "|        8|\n",
      "|        9|\n",
      "|       10|\n",
      "|       11|\n",
      "|       12|\n",
      "|       13|\n",
      "|       15|\n",
      "|       16|\n",
      "|       17|\n",
      "|       18|\n",
      "|       19|\n",
      "|       20|\n",
      "|       21|\n",
      "+---------+\n",
      "only showing top 20 rows\n",
      "\n",
      "None\n"
     ]
    }
   ],
   "source": [
    "# Check for blank userID and session IDs\n",
    "print(df.select(\"userId\").dropDuplicates().sort(\"userId\").show())\n",
    "print(df.select(\"sessionId\").dropDuplicates().sort(\"sessionId\").show())"
   ]
  },
  {
   "cell_type": "code",
   "execution_count": 5,
   "metadata": {},
   "outputs": [
    {
     "name": "stdout",
     "output_type": "stream",
     "text": [
      "+----+-----+\n",
      "|page|count|\n",
      "+----+-----+\n",
      "+----+-----+\n",
      "\n",
      "None\n",
      "+----+-----+\n",
      "|page|count|\n",
      "+----+-----+\n",
      "+----+-----+\n",
      "\n",
      "None\n"
     ]
    }
   ],
   "source": [
    "#Investigate missing user and song information\n",
    "print(df.filter(isnan(df[\"artist\"])).groupby('page').count().show())\n",
    "print(df.filter(isnan(df[\"firstName\"])).groupby('page').count().show())"
   ]
  },
  {
   "cell_type": "code",
   "execution_count": 6,
   "metadata": {},
   "outputs": [
    {
     "name": "stdout",
     "output_type": "stream",
     "text": [
      "DF Rows Before Dropping NAs: 286500\n",
      "DF Rows After Dropping NAs: 286500\n",
      "DF Rows After Removing Bad UserIDs: 278154\n"
     ]
    }
   ],
   "source": [
    "print(\"DF Rows Before Dropping NAs: {}\".format(df.count()))\n",
    "\n",
    "df_valid = df.dropna(how = \"any\", subset = [\"userId\", \"sessionId\"])\n",
    "print(\"DF Rows After Dropping NAs: {}\".format(df_valid.count()))\n",
    "\n",
    "df_valid = df_valid.filter(df_valid[\"userId\"] != \"\")\n",
    "print(\"DF Rows After Removing Bad UserIDs: {}\".format(df_valid.count()))"
   ]
  },
  {
   "cell_type": "markdown",
   "metadata": {},
   "source": [
    "# Exploratory Data Analysis\n",
    "When you're working with the full dataset, perform EDA by loading a small subset of the data and doing basic manipulations within Spark. In this workspace, you are already provided a small subset of data you can explore.\n",
    "\n",
    "### Define Churn\n",
    "\n",
    "Once you've done some preliminary analysis, create a column `Churn` to use as the label for your model. I suggest using the `Cancellation Confirmation` events to define your churn, which happen for both paid and free users. As a bonus task, you can also look into the `Downgrade` events.\n",
    "\n",
    "### Explore Data\n",
    "Once you've defined churn, perform some exploratory data analysis to observe the behavior for users who stayed vs users who churned. You can start by exploring aggregates on these two groups of users, observing how much of a specific action they experienced per a certain time unit or number of songs played."
   ]
  },
  {
   "cell_type": "code",
   "execution_count": 7,
   "metadata": {},
   "outputs": [
    {
     "name": "stdout",
     "output_type": "stream",
     "text": [
      "+-------+------------------+\n",
      "|summary|            userId|\n",
      "+-------+------------------+\n",
      "|  count|               225|\n",
      "|   mean|65391.013333333336|\n",
      "| stddev|105396.47791907164|\n",
      "|    min|                10|\n",
      "|    25%|              60.0|\n",
      "|    50%|             116.0|\n",
      "|    75%|          100017.0|\n",
      "|    max|                99|\n",
      "+-------+------------------+\n",
      "\n",
      "None\n",
      "+--------------------+------+\n",
      "|                page| count|\n",
      "+--------------------+------+\n",
      "|              Cancel|    52|\n",
      "|    Submit Downgrade|    63|\n",
      "|         Thumbs Down|  2546|\n",
      "|                Home| 10082|\n",
      "|           Downgrade|  2055|\n",
      "|         Roll Advert|  3933|\n",
      "|              Logout|  3226|\n",
      "|       Save Settings|   310|\n",
      "|Cancellation Conf...|    52|\n",
      "|               About|   495|\n",
      "|            Settings|  1514|\n",
      "|     Add to Playlist|  6526|\n",
      "|          Add Friend|  4277|\n",
      "|            NextSong|228108|\n",
      "|           Thumbs Up| 12551|\n",
      "|                Help|  1454|\n",
      "|             Upgrade|   499|\n",
      "|               Error|   252|\n",
      "|      Submit Upgrade|   159|\n",
      "+--------------------+------+\n",
      "\n",
      "None\n"
     ]
    }
   ],
   "source": [
    "# Examine page distribution and count number of distinct users\n",
    "print(df_valid.select(\"userId\").dropDuplicates().summary().show())\n",
    "print(df_valid.groupby('page').count().show())"
   ]
  },
  {
   "cell_type": "code",
   "execution_count": 8,
   "metadata": {},
   "outputs": [
    {
     "data": {
      "image/png": "[encoded data removed]",
      "text/plain": [
       "<matplotlib.figure.Figure at 0x7fc45e5d70f0>"
      ]
     },
     "metadata": {
      "needs_background": "light"
     },
     "output_type": "display_data"
    }
   ],
   "source": [
    "# Plot page distribution\n",
    "df_valid_pd = df_valid.select([\"page\"]).toPandas()\n",
    "\n",
    "counts = df_valid_pd[\"page\"].value_counts().sort_values(ascending = True)\n",
    "\n",
    "plt.barh(counts.index, counts)\n",
    "  \n",
    "plt.legend(loc='upper right')\n",
    "plt.title('Page Distribution')\n",
    "plt.show()"
   ]
  },
  {
   "cell_type": "code",
   "execution_count": 9,
   "metadata": {},
   "outputs": [],
   "source": [
    "# Create cancellation effect flag (model target variable)\n",
    "flag_cancellation_event = udf(lambda x: 1 if x == \"Cancellation Confirmation\" else 0, IntegerType())\n",
    "df_valid = df_valid.withColumn(\"Churn\", flag_cancellation_event(\"page\"))"
   ]
  },
  {
   "cell_type": "code",
   "execution_count": 10,
   "metadata": {},
   "outputs": [],
   "source": [
    "# Create dummy variables for analysis and feature creation\n",
    "#user activity flag - measures any time a user interacted with a song\n",
    "flag_song_event = udf(lambda x: 1 if (x == \"Add to Playlist\" or x == \"NextSong\" or \n",
    "                      x == \"Thumbs Up\" or x == \"Thumbs Down\" or x == \"Add Friend\") else 0, IntegerType())\n",
    "df_valid = df_valid.withColumn(\"ActivityInd\", flag_song_event(\"page\"))\n",
    "\n",
    "#gender flag - male vs. female\n",
    "flag_gender = udf(lambda x: 1 if (x == \"M\") else 0, IntegerType())\n",
    "df_valid = df_valid.withColumn(\"MaleInd\", flag_gender(\"gender\"))\n",
    "\n",
    "# paid flag - whether user was free or paid\n",
    "flag_paid = udf(lambda x: 1 if (x == \"paid\") else 0, IntegerType())\n",
    "df_valid = df_valid.withColumn(\"PaidInd\", flag_paid(\"level\"))"
   ]
  },
  {
   "cell_type": "code",
   "execution_count": 11,
   "metadata": {},
   "outputs": [],
   "source": [
    "# Create date variables and calculate days since registration\n",
    "gen_day_num = udf(lambda x: x/86400000)\n",
    "\n",
    "df_valid = df_valid.withColumn(\"day_num\", gen_day_num('ts'))\n",
    "df_valid = df_valid.withColumn(\"day_num_floor\", floor(df_valid.day_num))\n",
    "\n",
    "df_valid = df_valid.withColumn(\"reg_day_num\", gen_day_num('registration'))\n",
    "df_valid = df_valid.withColumn(\"reg_day_num_floor\", floor(df_valid.reg_day_num))\n",
    "\n",
    "# Add one to days since registration to account for 0s\n",
    "# Note - one negative value that needs to be changed to 1\n",
    "df_valid = df_valid.withColumn(\"RegDays\", df_valid.day_num_floor - df_valid.reg_day_num_floor + 1)\n",
    "chg_neg_value = udf(lambda x: x if x > 0 else 1, IntegerType())\n",
    "df_valid = df_valid.withColumn(\"RegDays\", chg_neg_value(df_valid.RegDays))"
   ]
  },
  {
   "cell_type": "code",
   "execution_count": 12,
   "metadata": {},
   "outputs": [],
   "source": [
    "# Create cumulative activity feature for all time\n",
    "week_windowval = Window.partitionBy(\"userId\").orderBy(\"ts\").rangeBetween(Window.unboundedPreceding, 0)\n",
    "df_valid = df_valid.withColumn(\"ActivitySum\", Fsum(\"ActivityInd\").over(week_windowval))"
   ]
  },
  {
   "cell_type": "code",
   "execution_count": 13,
   "metadata": {},
   "outputs": [],
   "source": [
    "# Normalize activity by registration time. Fill in NAs \n",
    "df_valid = df_valid.withColumn(\"ActivitySumNorm\", df_valid.ActivitySum/df_valid.RegDays)"
   ]
  },
  {
   "cell_type": "code",
   "execution_count": 14,
   "metadata": {},
   "outputs": [
    {
     "name": "stdout",
     "output_type": "stream",
     "text": [
      "+-------+--------------------+-------------------+-------------------+-------------------+------------------+-----------------+------------------+\n",
      "|summary|               Churn|        ActivityInd|            MaleInd|            PaidInd|       ActivitySum|          RegDays|   ActivitySumNorm|\n",
      "+-------+--------------------+-------------------+-------------------+-------------------+------------------+-----------------+------------------+\n",
      "|  count|              278154|             278154|             278154|             278154|            278154|           278154|            278154|\n",
      "|   mean|1.869467992550889E-4| 0.9131919727920504|0.44427187816820896| 0.7996757192059075|1221.1328436765245|65.77722772277228| 22.00432318026908|\n",
      "| stddev|0.013671595449116166|0.28155404208758644| 0.4968855643484304|0.40024372479844644|1325.5124516640722|41.92013768625725|21.540533129356707|\n",
      "|    min|                   0|                  0|                  0|                  0|                 0|                1|               0.0|\n",
      "|    25%|                   0|                  1|                  0|                  1|               327|               36| 6.290322580645161|\n",
      "|    50%|                   0|                  1|                  0|                  1|               817|               58|              14.5|\n",
      "|    75%|                   0|                  1|                  1|                  1|              1614|               86|30.696428571428573|\n",
      "|    max|                   1|                  1|                  1|                  1|              8821|              257|135.28571428571428|\n",
      "+-------+--------------------+-------------------+-------------------+-------------------+------------------+-----------------+------------------+\n",
      "\n"
     ]
    }
   ],
   "source": [
    "# Sanity check derived variables\n",
    "df_valid.select(['Churn', \"ActivityInd\", 'MaleInd', 'PaidInd', 'ActivitySum', 'RegDays', 'ActivitySumNorm']).summary().show()"
   ]
  },
  {
   "cell_type": "code",
   "execution_count": 15,
   "metadata": {},
   "outputs": [
    {
     "name": "stdout",
     "output_type": "stream",
     "text": [
      "+-----+-------------+-------------------+------------------+-----------------+------------------+--------------------+\n",
      "|Churn|count(userId)|       avg(MaleInd)|      avg(PaidInd)|     avg(RegDays)|  avg(ActivitySum)|avg(ActivitySumNorm)|\n",
      "+-----+-------------+-------------------+------------------+-----------------+------------------+--------------------+\n",
      "|    1|           52| 0.6153846153846154|0.5961538461538461|58.36538461538461| 777.3653846153846|   16.49687924171174|\n",
      "|    0|       278102|0.44423988320831925|0.7997137740828905| 65.7786136022035|1221.2158200947854|  22.005352971801713|\n",
      "+-----+-------------+-------------------+------------------+-----------------+------------------+--------------------+\n",
      "\n"
     ]
    }
   ],
   "source": [
    "# Examine target variable distribution between churn and non churn customers\n",
    "df_valid.groupby(\"Churn\").agg(count(col('userId')),  \n",
    "                              avg(col(\"MaleInd\")),\n",
    "                              avg(col(\"PaidInd\")),\n",
    "                              avg(col(\"RegDays\")),\n",
    "                              avg(col(\"ActivitySum\")),\n",
    "                              avg(col(\"ActivitySumNorm\"))).show()"
   ]
  },
  {
   "cell_type": "code",
   "execution_count": 16,
   "metadata": {},
   "outputs": [
    {
     "data": {
      "text/html": [
       "<div>\n",
       "<style scoped>\n",
       "    .dataframe tbody tr th:only-of-type {\n",
       "        vertical-align: middle;\n",
       "    }\n",
       "\n",
       "    .dataframe tbody tr th {\n",
       "        vertical-align: top;\n",
       "    }\n",
       "\n",
       "    .dataframe thead th {\n",
       "        text-align: right;\n",
       "    }\n",
       "</style>\n",
       "<table border=\"1\" class=\"dataframe\">\n",
       "  <thead>\n",
       "    <tr style=\"text-align: right;\">\n",
       "      <th></th>\n",
       "      <th>Churn</th>\n",
       "      <th>RegDays</th>\n",
       "      <th>ActivitySumNorm</th>\n",
       "    </tr>\n",
       "  </thead>\n",
       "  <tbody>\n",
       "    <tr>\n",
       "      <th>0</th>\n",
       "      <td>0</td>\n",
       "      <td>12</td>\n",
       "      <td>0.083333</td>\n",
       "    </tr>\n",
       "    <tr>\n",
       "      <th>1</th>\n",
       "      <td>0</td>\n",
       "      <td>12</td>\n",
       "      <td>0.166667</td>\n",
       "    </tr>\n",
       "    <tr>\n",
       "      <th>2</th>\n",
       "      <td>0</td>\n",
       "      <td>12</td>\n",
       "      <td>0.250000</td>\n",
       "    </tr>\n",
       "    <tr>\n",
       "      <th>3</th>\n",
       "      <td>0</td>\n",
       "      <td>12</td>\n",
       "      <td>0.333333</td>\n",
       "    </tr>\n",
       "    <tr>\n",
       "      <th>4</th>\n",
       "      <td>0</td>\n",
       "      <td>12</td>\n",
       "      <td>0.416667</td>\n",
       "    </tr>\n",
       "  </tbody>\n",
       "</table>\n",
       "</div>"
      ],
      "text/plain": [
       "   Churn  RegDays  ActivitySumNorm\n",
       "0      0       12         0.083333\n",
       "1      0       12         0.166667\n",
       "2      0       12         0.250000\n",
       "3      0       12         0.333333\n",
       "4      0       12         0.416667"
      ]
     },
     "execution_count": 16,
     "metadata": {},
     "output_type": "execute_result"
    }
   ],
   "source": [
    "# Create pandas DF for visualization\n",
    "df_valid_pd = df_valid.select([\"Churn\", \"RegDays\", \"ActivitySumNorm\"]).toPandas()\n",
    "df_valid_pd.head()"
   ]
  },
  {
   "cell_type": "code",
   "execution_count": 17,
   "metadata": {},
   "outputs": [
    {
     "data": {
      "image/png": "[encoded data removed]",
      "text/plain": [
       "<matplotlib.figure.Figure at 0x7fc427263320>"
      ]
     },
     "metadata": {
      "needs_background": "light"
     },
     "output_type": "display_data"
    },
    {
     "data": {
      "image/png": "[encoded data removed]",
      "text/plain": [
       "<matplotlib.figure.Figure at 0x7fc427247b00>"
      ]
     },
     "metadata": {
      "needs_background": "light"
     },
     "output_type": "display_data"
    }
   ],
   "source": [
    "# Plot week activity distributions\n",
    "# Week activity\n",
    "plt.hist(df_valid_pd[df_valid_pd['Churn'] == 1]['ActivitySumNorm'], \n",
    "         density = True,\n",
    "         alpha=0.5,\n",
    "         label='Churn')\n",
    "  \n",
    "plt.hist(df_valid_pd[df_valid_pd['Churn'] == 0]['ActivitySumNorm'],\n",
    "         density = True,\n",
    "         alpha=0.5,\n",
    "         label='No Churn')\n",
    "  \n",
    "plt.legend(loc='upper right')\n",
    "plt.title('Churn vs. No Churn Normalized Activity Dist.')\n",
    "plt.show()\n",
    "\n",
    "# Normalized Week activity\n",
    "plt.hist(df_valid_pd[df_valid_pd['Churn'] == 1]['RegDays'], \n",
    "         density = True,\n",
    "         alpha=0.5,\n",
    "         label='Churn')\n",
    "  \n",
    "plt.hist(df_valid_pd[df_valid_pd['Churn'] == 0]['RegDays'],\n",
    "         density = True,\n",
    "         alpha=0.5,\n",
    "         label='No Churn')\n",
    "  \n",
    "plt.legend(loc='upper right')\n",
    "plt.title('Churn vs. No Churn Days Since Registration Dist.')\n",
    "plt.show()\n"
   ]
  },
  {
   "cell_type": "markdown",
   "metadata": {},
   "source": [
    "# Feature Engineering\n",
    "Once you've familiarized yourself with the data, build out the features you find promising to train your model on. To work with the full dataset, you can follow the following steps.\n",
    "- Write a script to extract the necessary features from the smaller subset of data\n",
    "- Ensure that your script is scalable, using the best practices discussed in Lesson 3\n",
    "- Try your script on the full data set, debugging your script if necessary\n",
    "\n",
    "If you are working in the classroom workspace, you can just extract features based on the small subset of data contained here. Be sure to transfer over this work to the larger dataset when you work on your Spark cluster."
   ]
  },
  {
   "cell_type": "code",
   "execution_count": 18,
   "metadata": {},
   "outputs": [],
   "source": [
    "# Create feature vectors\n",
    "assembler = VectorAssembler(inputCols=[\"MaleInd\", \"PaidInd\", \"RegDays\", \"ActivitySumNorm\"],outputCol=\"features\")\n",
    "df_valid = assembler.transform(df_valid)"
   ]
  },
  {
   "cell_type": "code",
   "execution_count": 19,
   "metadata": {},
   "outputs": [
    {
     "name": "stdout",
     "output_type": "stream",
     "text": [
      "+-----+--------------------+\n",
      "|label|            features|\n",
      "+-----+--------------------+\n",
      "|    0|[0.0,0.0,12.0,0.0...|\n",
      "|    0|[0.0,0.0,12.0,0.1...|\n",
      "|    0| [0.0,0.0,12.0,0.25]|\n",
      "|    0|[0.0,0.0,12.0,0.3...|\n",
      "|    0|[0.0,0.0,12.0,0.4...|\n",
      "|    0|  [0.0,0.0,12.0,0.5]|\n",
      "|    0|[0.0,0.0,12.0,0.5...|\n",
      "|    0|[0.0,0.0,12.0,0.6...|\n",
      "|    0|[0.0,0.0,12.0,0.6...|\n",
      "|    0| [0.0,0.0,12.0,0.75]|\n",
      "|    0|[0.0,0.0,12.0,0.8...|\n",
      "|    0|[0.0,0.0,12.0,0.9...|\n",
      "|    0|[0.0,0.0,12.0,0.9...|\n",
      "|    0|  [0.0,0.0,12.0,1.0]|\n",
      "|    0|[0.0,0.0,12.0,1.0...|\n",
      "|    0|[0.0,0.0,12.0,1.1...|\n",
      "|    0| [0.0,0.0,12.0,1.25]|\n",
      "|    0| [0.0,0.0,12.0,1.25]|\n",
      "|    0|[0.0,0.0,12.0,1.3...|\n",
      "|    0|[0.0,0.0,12.0,1.3...|\n",
      "+-----+--------------------+\n",
      "only showing top 20 rows\n",
      "\n"
     ]
    }
   ],
   "source": [
    "# Create modeling dataset\n",
    "data_model = df_valid.select(col(\"Churn\").alias(\"label\"), col(\"features\"))\n",
    "data_model.show()"
   ]
  },
  {
   "cell_type": "markdown",
   "metadata": {},
   "source": [
    "# Modeling\n",
    "Split the full dataset into train, test, and validation sets. Test out several of the machine learning methods you learned. Evaluate the accuracy of the various models, tuning parameters as necessary. Determine your winning model based on test accuracy and report results on the validation set. Since the churned users are a fairly small subset, I suggest using F1 score as the metric to optimize."
   ]
  },
  {
   "cell_type": "code",
   "execution_count": 20,
   "metadata": {},
   "outputs": [],
   "source": [
    "# Create train/test datasets\n",
    "train, test = data_model.randomSplit((0.8, 0.2), seed = 42)"
   ]
  },
  {
   "cell_type": "code",
   "execution_count": 21,
   "metadata": {},
   "outputs": [
    {
     "name": "stdout",
     "output_type": "stream",
     "text": [
      "[0.999750549279639, 0.999750549279639, 0.999750549279639]\n",
      "[0.698121757003,-0.570338500725,-0.00508286094982,-6.91458966448e-05]\n"
     ]
    }
   ],
   "source": [
    "# Setup and train cross validated logistic regression model\n",
    "lr = LogisticRegression()\n",
    "lr_ParamGrid = ParamGridBuilder().addGrid(lr.elasticNetParam, [0, 0.5, 1]).build()\n",
    "lr_crossval = CrossValidator(estimator = lr,\n",
    "                          estimatorParamMaps = lr_ParamGrid,\n",
    "                          evaluator = MulticlassClassificationEvaluator(),\n",
    "                          numFolds = 3)\n",
    "\n",
    "# Train model and examine performance\n",
    "LrCvModel = lr_crossval.fit(train)\n",
    "print(LrCvModel.avgMetrics)\n",
    "\n",
    "# Save best model and examine coefficients\n",
    "best_lr_model = LrCvModel.bestModel\n",
    "print(best_lr_model.coefficients)"
   ]
  },
  {
   "cell_type": "code",
   "execution_count": 22,
   "metadata": {},
   "outputs": [
    {
     "name": "stdout",
     "output_type": "stream",
     "text": [
      "+-----+--------------------+--------------------+--------------------+----------+\n",
      "|label|            features|       rawPrediction|         probability|prediction|\n",
      "+-----+--------------------+--------------------+--------------------+----------+\n",
      "|  0.0|[0.0,0.0,12.0,0.1...|[8.40143700365812...|[0.99977550598780...|       0.0|\n",
      "|  0.0| [0.0,0.0,12.0,0.25]|[8.40144276581617...|[0.99977550728108...|       0.0|\n",
      "|  0.0|[0.0,0.0,12.0,0.3...|[8.40144852797423...|[0.99977550857434...|       0.0|\n",
      "|  0.0|  [0.0,0.0,12.0,1.0]|[8.40149462523866...|[0.99977551892022...|       0.0|\n",
      "|  0.0| [0.0,0.0,12.0,1.25]|[8.40151191171282...|[0.99977552279980...|       0.0|\n",
      "|  0.0|  [0.0,0.0,12.0,2.5]|[8.40159834408362...|[0.99977554219671...|       0.0|\n",
      "|  0.0| [0.0,0.0,20.0,2.05]|[8.44223011602869...|[0.99978447758968...|       0.0|\n",
      "|  0.0|  [0.0,0.0,20.0,2.1]|[8.44223357332352...|[0.99978447833465...|       0.0|\n",
      "|  0.0|  [0.0,0.0,20.0,2.1]|[8.44223357332352...|[0.99978447833465...|       0.0|\n",
      "|  0.0| [0.0,0.0,20.0,2.35]|[8.44225085979768...|[0.99978448205942...|       0.0|\n",
      "|  0.0| [0.0,0.0,20.0,2.45]|[8.44225777438735...|[0.99978448354931...|       0.0|\n",
      "|  0.0|  [0.0,0.0,20.0,3.0]|[8.44229580463050...|[0.99978449174353...|       0.0|\n",
      "|  0.0| [0.0,0.0,20.0,3.25]|[8.44231309110466...|[0.99978449546808...|       0.0|\n",
      "|  0.0|  [0.0,0.0,20.0,3.3]|[8.4423165483995,...|[0.99978449621298...|       0.0|\n",
      "|  0.0| [0.0,0.0,20.0,3.95]|[8.44236149323231...|[0.99978450589646...|       0.0|\n",
      "|  0.0|[0.0,0.0,24.0,4.0...|[8.46270215648448...|[0.99978884399442...|       0.0|\n",
      "|  0.0|[0.0,0.0,24.0,4.5...|[8.46273384835377...|[0.99978885068483...|       0.0|\n",
      "|  0.0|[0.0,0.0,24.0,4.625]|[8.46273961051183...|[0.99978885190125...|       0.0|\n",
      "|  0.0|[0.0,0.0,24.0,4.6...|[8.46274249159086...|[0.99978885250945...|       0.0|\n",
      "|  0.0|[0.0,0.0,24.0,4.7...|[8.46275113482794...|[0.99978885433406...|       0.0|\n",
      "+-----+--------------------+--------------------+--------------------+----------+\n",
      "only showing top 20 rows\n",
      "\n",
      "None\n"
     ]
    }
   ],
   "source": [
    "# Make out of sample predictions for analysis\n",
    "lr_transformed = LrCvModel.transform(test)\n",
    "lr_transformed = lr_transformed.withColumn(\"label\",lr_transformed.label.cast(FloatType())).orderBy('prediction')\n",
    "print(lr_transformed.show())"
   ]
  },
  {
   "cell_type": "code",
   "execution_count": 23,
   "metadata": {},
   "outputs": [],
   "source": [
    "#Out of sample performance statistics\n",
    "def out_of_sample_perf(test_df):\n",
    "    \"\"\" Function to calculate out of sample performance statistics on test dataset\n",
    "    \n",
    "        Args:\n",
    "            test_df: transformed dataset output from model\n",
    "            \n",
    "        Returns: \n",
    "            None\n",
    "    \n",
    "    \"\"\"\n",
    "    results = test_df.select(['prediction', 'label'])\n",
    "    predictionAndLabels=results.rdd\n",
    "    metrics = MulticlassMetrics(predictionAndLabels)\n",
    "\n",
    "    cm=metrics.confusionMatrix().toArray()\n",
    "    precision=metrics.precision()\n",
    "    recall=metrics.recall()\n",
    "    f_score = metrics.fMeasure()\n",
    "\n",
    "    test_df.summary().show()\n",
    "    print(\"Confusion Matrix: cm\", cm)\n",
    "    print(\"LogisticRegressionClassifier: precision,recall\",precision,recall)\n",
    "    print(\"LogisticRegressionClassifier F1 score: f_score\", f_score)\n",
    "    \n",
    "    return None"
   ]
  },
  {
   "cell_type": "code",
   "execution_count": 24,
   "metadata": {},
   "outputs": [
    {
     "name": "stdout",
     "output_type": "stream",
     "text": [
      "Logistic Regression Out-of-Sample Statistics:\n",
      "+-------+--------------------+----------+\n",
      "|summary|               label|prediction|\n",
      "+-------+--------------------+----------+\n",
      "|  count|               55542|     55542|\n",
      "|   mean|2.700658960786432E-4|       0.0|\n",
      "| stddev|0.016431610439556033|       0.0|\n",
      "|    min|                 0.0|       0.0|\n",
      "|    25%|                 0.0|       0.0|\n",
      "|    50%|                 0.0|       0.0|\n",
      "|    75%|                 0.0|       0.0|\n",
      "|    max|                 1.0|       0.0|\n",
      "+-------+--------------------+----------+\n",
      "\n",
      "Confusion Matrix: cm [[  5.55270000e+04   0.00000000e+00]\n",
      " [  1.50000000e+01   0.00000000e+00]]\n",
      "LogisticRegressionClassifier: precision,recall 0.9997299341039213 0.9997299341039213\n",
      "LogisticRegressionClassifier F1 score: f_score 0.9997299341039213\n"
     ]
    }
   ],
   "source": [
    "print(\"Logistic Regression Out-of-Sample Statistics:\")\n",
    "out_of_sample_perf(lr_transformed)"
   ]
  },
  {
   "cell_type": "markdown",
   "metadata": {},
   "source": [
    "# Final Steps\n",
    "Clean up your code, adding comments and renaming variables to make the code easier to read and maintain. Refer to the Spark Project Overview page and Data Scientist Capstone Project Rubric to make sure you are including all components of the capstone project and meet all expectations. Remember, this includes thorough documentation in a README file in a Github repository, as well as a web app or blog post."
   ]
  },
  {
   "cell_type": "code",
   "execution_count": null,
   "metadata": {},
   "outputs": [],
   "source": []
  }
 ],
 "metadata": {
  "kernelspec": {
   "display_name": "Python 3",
   "language": "python",
   "name": "python3"
  },
  "language_info": {
   "codemirror_mode": {
    "name": "ipython",
    "version": 3
   },
   "file_extension": ".py",
   "mimetype": "text/x-python",
   "name": "python",
   "nbconvert_exporter": "python",
   "pygments_lexer": "ipython3",
   "version": "3.8.3"
  }
 },
 "nbformat": 4,
 "nbformat_minor": 2
}
